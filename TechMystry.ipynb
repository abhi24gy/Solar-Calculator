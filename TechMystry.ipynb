{
  "nbformat": 4,
  "nbformat_minor": 0,
  "metadata": {
    "colab": {
      "name": "TechMystry.ipynb",
      "provenance": [],
      "collapsed_sections": [
        "8Sf9-eh8DXSq"
      ]
    },
    "kernelspec": {
      "name": "python3",
      "display_name": "Python 3"
    }
  },
  "cells": [
    {
      "cell_type": "markdown",
      "metadata": {
        "id": "8Sf9-eh8DXSq"
      },
      "source": [
        "# **Location Karauli Rajasthan**"
      ]
    },
    {
      "cell_type": "markdown",
      "metadata": {
        "id": "-3M8GdWYyH1l"
      },
      "source": [
        "# **Solar System Size**"
      ]
    },
    {
      "cell_type": "code",
      "metadata": {
        "colab": {
          "base_uri": "https://localhost:8080/"
        },
        "id": "DyHmYYgpjYC8",
        "outputId": "cd909d9b-3a54-477b-ce64-bb43e4f18c8f"
      },
      "source": [
        "import math\n",
        "\n",
        "print(\"Enter Monthly Electricity Consumption in kWh : \",end='')\n",
        "Electricity_Consumption_user = int(input())\n",
        "print(\"\\n\")\n",
        "\n",
        "Electricity_Consumption = Electricity_Consumption_user\n",
        "Units_per_day = Electricity_Consumption*1.2/30\n",
        "print(\"Daily Energy Consumption in kWh :\", Units_per_day)\n",
        "print(\"\\n\")\n",
        "Sunshine_hours = 6\n",
        "Solar_needed_in_kW = Units_per_day/6\n",
        "print(\"Solar System Size in kW:\", Solar_needed_in_kW)\n",
        "print(\"\\n\")\n",
        "Solar_panel_to_be_installed = 330 #in Watt\n",
        "Number_of_solar_panels = math.ceil(Solar_needed_in_kW*1000/Solar_panel_to_be_installed)\n",
        "\n",
        "print(\"Number of Solar Panels :\", Number_of_solar_panels)\n",
        "print(\"\\n\")\n",
        "Area_of_one_solar_panel = 2 #in sq.m\n",
        "Area_needed_for_installation = Area_of_one_solar_panel*Number_of_solar_panels\n",
        "print(\"Area Required For Installation in sq.m. :\", Area_needed_for_installation)\n",
        "print(\"\\n\")\n",
        "\n",
        "Cost_of_solar_panel= 28*330*Number_of_solar_panels\n",
        "print(\"Cost of Solar Panels (in Rs.):\", Cost_of_solar_panel)\n",
        "print(\"\\n\")"
      ],
      "execution_count": null,
      "outputs": [
        {
          "output_type": "stream",
          "text": [
            "Enter Monthly Electricity Consumption in kWh : 400\n",
            "\n",
            "\n",
            "Daily Energy Consumption in kWh : 16.0\n",
            "\n",
            "\n",
            "Solar System Size in kW: 2.6666666666666665\n",
            "\n",
            "\n",
            "Number of Solar Panels : 9\n",
            "\n",
            "\n",
            "Area Required For Installation in sq.m. : 18\n",
            "\n",
            "\n",
            "Cost of Solar Panels (in Rs.): 83160\n",
            "\n",
            "\n"
          ],
          "name": "stdout"
        }
      ]
    },
    {
      "cell_type": "markdown",
      "metadata": {
        "id": "fr7591W2MLi6"
      },
      "source": [
        "# **Cost of On-grid**"
      ]
    },
    {
      "cell_type": "code",
      "metadata": {
        "colab": {
          "base_uri": "https://localhost:8080/"
        },
        "id": "oraZHtyBMKI8",
        "outputId": "9eeeaa77-266e-436e-96d5-1acefaa6e2cd"
      },
      "source": [
        "Installation_Cost_On_grid = 21000 + 11000*0.33*Number_of_solar_panels + 1700*Number_of_solar_panels\n",
        "print(\"Installation Cost of the On-grid system :\", Installation_Cost_On_grid)\n",
        "print(\"\\n\")\n",
        "\n",
        "Total_Cost_of_Solar_system_without_subsidy = Cost_of_solar_panel + Installation_Cost_On_grid\n",
        "print(\"Total Cost of Solar system without subsidy\", Total_Cost_of_Solar_system_without_subsidy)\n",
        "print(\"\\n\")\n",
        "\n",
        "Total_cost_per_kw = Total_Cost_of_Solar_system_without_subsidy / Solar_needed_in_kW\n",
        "\n",
        "Total_Cost_of_Solar_system_with_subsidy = Total_Cost_of_Solar_system_without_subsidy\n",
        "\n",
        "if (Solar_needed_in_kW <= 3):\n",
        "  Total_Cost_of_Solar_system_with_subsidy -= 0.4*Total_Cost_of_Solar_system_with_subsidy\n",
        "elif (Solar_needed_in_kW <= 10):\n",
        "  Total_Cost_of_Solar_system_with_subsidy -= (3*0.4*Total_cost_per_kw + (Solar_needed_in_kW - 3)*0.2*Total_cost_per_kw)\n",
        "\n",
        "\n",
        "print(\"Total Cost of Solar System with subsidy :\", Total_Cost_of_Solar_system_with_subsidy)\n"
      ],
      "execution_count": null,
      "outputs": [
        {
          "output_type": "stream",
          "text": [
            "Installation Cost of the On-grid system : 68970.0\n",
            "\n",
            "\n",
            "Total Cost of Solar system without subsidy 152130.0\n",
            "\n",
            "\n",
            "Total Cost of Solar System with subsidy : 91278.0\n"
          ],
          "name": "stdout"
        }
      ]
    },
    {
      "cell_type": "markdown",
      "metadata": {
        "id": "GMgisWcpy7Oi"
      },
      "source": [
        "# Cost of additional components for On-Grid System:-"
      ]
    },
    {
      "cell_type": "markdown",
      "metadata": {
        "id": "UJHvWb-9WvYC"
      },
      "source": [
        "Inverter_cost = 11000*Solar_needed_in_kW [cost_of_1kw_grid_tie_inverter = Rs. 11000]\n",
        "\n",
        "Mounting_structure = 5* 330* Number_of_solar_panels [Rs.5/Watt]\n",
        "\n",
        "ACDC_Box = Rs.5000 [Constant price for solar panel installation]\n",
        "\n",
        "DC_Wire = Rs.2500 [Rs.26 per m]\n",
        "\n",
        "AC_Wire = Rs.3000 [Rs.30 per m]\n",
        "\n",
        "Solar_connector = Number_of_solar_panels*50 [Rs.50 per pair]\n",
        "\n",
        "Lightening_Arrestor = Rs.8000 [fixed]\n",
        "\n",
        "Earthing_wire = Rs.2000 [fixed]"
      ]
    },
    {
      "cell_type": "markdown",
      "metadata": {
        "id": "xM83NZJ0hrnd"
      },
      "source": [
        "# **Time to Recover the Cost**"
      ]
    },
    {
      "cell_type": "code",
      "metadata": {
        "id": "ifra7nyehjBR",
        "colab": {
          "base_uri": "https://localhost:8080/"
        },
        "outputId": "a15742db-9d99-41b1-9692-63ba103d5b1c"
      },
      "source": [
        "Time_to_recover_cost = Total_Cost_of_Solar_system_with_subsidy/(12*Electricity_Consumption*7.5)\n",
        "print(\"Time to recover cost in years:\",Time_to_recover_cost)\n",
        "print(\"Time to recover cost in months:\", Time_to_recover_cost*12)"
      ],
      "execution_count": null,
      "outputs": [
        {
          "output_type": "stream",
          "text": [
            "Time to recover cost in years: 2.5355\n",
            "Time to recover cost in months: 30.426\n"
          ],
          "name": "stdout"
        }
      ]
    },
    {
      "cell_type": "markdown",
      "metadata": {
        "id": "j0R_VC6kz6OB"
      },
      "source": [
        "# **Earnings**"
      ]
    },
    {
      "cell_type": "code",
      "metadata": {
        "colab": {
          "base_uri": "https://localhost:8080/"
        },
        "id": "NIJZHHXuz4wu",
        "outputId": "0c5c2b45-e49e-40ad-cec3-4bcbee673606"
      },
      "source": [
        "Daily_Savings = Electricity_Consumption_user*7.5/30\n",
        "Monthly_Savings = Daily_Savings*30\n",
        "Annual_Savings = Monthly_Savings*12\n",
        "print(\"Daily Savings in Rs:\", Daily_Savings)\n",
        "print(\"Monthly Savings in Rs:\", Monthly_Savings)\n",
        "print(\"Annual Savings in Rs:\", Annual_Savings)"
      ],
      "execution_count": null,
      "outputs": [
        {
          "output_type": "stream",
          "text": [
            "Daily Savings in Rs: 100.0\n",
            "Monthly Savings in Rs: 3000.0\n",
            "Annual Savings in Rs: 36000.0\n"
          ],
          "name": "stdout"
        }
      ]
    },
    {
      "cell_type": "markdown",
      "metadata": {
        "id": "X-WiFfnpx-FE"
      },
      "source": [
        "# **Cost of Off-grid** "
      ]
    },
    {
      "cell_type": "code",
      "metadata": {
        "colab": {
          "base_uri": "https://localhost:8080/"
        },
        "id": "R_lO2OX64vgZ",
        "outputId": "4e680cf4-6488-4001-e4f7-d708dea0d1c1"
      },
      "source": [
        "Installation_Cost_Off_grid = 21000 + 28000 + 11000*0.33*Number_of_solar_panels + 1700*Number_of_solar_panels\n",
        "print(\"Installation Cost of the On-grid system :\", Installation_Cost_Off_grid)\n",
        "print(\"\\n\")\n",
        "\n",
        "Total_Cost_of_Solar_system_without_subsidy = Cost_of_solar_panel + Installation_Cost_Off_grid\n",
        "print(\"Total Cost of Solar system without subsidy\", Total_Cost_of_Solar_system_without_subsidy)\n",
        "print(\"\\n\")\n",
        "\n",
        "Total_cost_per_kw = Total_Cost_of_Solar_system_without_subsidy / Solar_needed_in_kW\n",
        "\n",
        "Total_Cost_of_Solar_system_with_subsidy = Total_Cost_of_Solar_system_without_subsidy\n",
        "\n",
        "if (Solar_needed_in_kW <= 3):\n",
        "  Total_Cost_of_Solar_system_with_subsidy -= 0.4*Total_Cost_of_Solar_system_with_subsidy\n",
        "elif (Solar_needed_in_kW <= 10):\n",
        "  Total_Cost_of_Solar_system_with_subsidy -= (3*0.4*Total_cost_per_kw + (Solar_needed_in_kW - 3)*0.2*Total_cost_per_kw)\n",
        "\n",
        "\n",
        "print(\"Total Cost of Solar system with subsidy :\", Total_Cost_of_Solar_system_with_subsidy)\n"
      ],
      "execution_count": null,
      "outputs": [
        {
          "output_type": "stream",
          "text": [
            "Installation Cost of the On-grid system : 96970.0\n",
            "\n",
            "\n",
            "Total Cost of Solar system without subsidy 180130.0\n",
            "\n",
            "\n",
            "Total Cost of Solar system with subsidy : 108078.0\n"
          ],
          "name": "stdout"
        }
      ]
    },
    {
      "cell_type": "markdown",
      "metadata": {
        "id": "gkodq1hLzCBB"
      },
      "source": [
        "# Cost of additional components for Off-Grid System:-"
      ]
    },
    {
      "cell_type": "markdown",
      "metadata": {
        "id": "7g1HKg6pgoTC"
      },
      "source": [
        "Inverter_cost = 11000*Solar_needed_in_kW [cost_of_1kw_grid_tie_inverter = Rs. 11000]\n",
        "\n",
        "Solar Battery = Rs.25000 [Fixed Cost]\n",
        "\n",
        "Transfer Switch = Rs. 3000 [Fixed Cost]\n",
        "\n",
        "Mounting_structure = 5* 330* Number_of_solar_panels [Rs.5/Watt]\n",
        "\n",
        "ACDC_Box = Rs.5000 [Constant price for solar panel installation]\n",
        "\n",
        "DC_Wire = Rs.2500 [Rs.26 per m]\n",
        "\n",
        "AC_Wire = Rs.3000 [Rs.30 per m]\n",
        "\n",
        "Solar_connector = Number_of_solar_panels*50 [Rs.50 per pair]\n",
        "\n",
        "Lightening_Arrestor = Rs.8000 [fixed]\n",
        "\n",
        "Earthing_wire = Rs.2000 [fixed]"
      ]
    },
    {
      "cell_type": "markdown",
      "metadata": {
        "id": "hXonLvr6i74s"
      },
      "source": [
        "# **Time to recover the Cost**"
      ]
    },
    {
      "cell_type": "code",
      "metadata": {
        "id": "9Wih1hW27m-6",
        "colab": {
          "base_uri": "https://localhost:8080/"
        },
        "outputId": "0ff2752a-5228-47d6-fbc5-474785321e13"
      },
      "source": [
        "Time_to_recover_cost = Total_Cost_of_Solar_system_with_subsidy/(12*Electricity_Consumption*7.5)\n",
        "print(\"Time to recover cost in years:\",Time_to_recover_cost)\n",
        "print(\"Time to recover cost in months:\", Time_to_recover_cost*12)"
      ],
      "execution_count": null,
      "outputs": [
        {
          "output_type": "stream",
          "text": [
            "Time to recover cost in years: 3.0021666666666667\n",
            "Time to recover cost in months: 36.025999999999996\n"
          ],
          "name": "stdout"
        }
      ]
    },
    {
      "cell_type": "markdown",
      "metadata": {
        "id": "1JVGmJFBoGxM"
      },
      "source": [
        "# **Earnings**"
      ]
    },
    {
      "cell_type": "code",
      "metadata": {
        "id": "qrnfbXFU7f7a",
        "colab": {
          "base_uri": "https://localhost:8080/"
        },
        "outputId": "a4f44a50-92d2-454f-c508-4110d94521f8"
      },
      "source": [
        "Daily_Savings = Electricity_Consumption_user*7.5/30\n",
        "Monthly_Savings = Daily_Savings*30\n",
        "Annual_Savings = Monthly_Savings*12\n",
        "print(\"Daily Savings :\", Daily_Savings)\n",
        "print(\"Monthly Savings :\", Monthly_Savings)\n",
        "print(\"Annual Savings :\", Annual_Savings)"
      ],
      "execution_count": null,
      "outputs": [
        {
          "output_type": "stream",
          "text": [
            "Daily Savings : 157.25\n",
            "Monthly Savings : 4717.5\n",
            "Annual Savings : 56610.0\n"
          ],
          "name": "stdout"
        }
      ]
    },
    {
      "cell_type": "markdown",
      "metadata": {
        "id": "AzZUTv18oglx"
      },
      "source": [
        "# **CO2 emissions reduced**"
      ]
    },
    {
      "cell_type": "code",
      "metadata": {
        "id": "UtFVLjYBowuE",
        "colab": {
          "base_uri": "https://localhost:8080/"
        },
        "outputId": "aa453529-2473-4fe9-fb11-f165a7637534"
      },
      "source": [
        "Emission_factor = 0.82\n",
        "LifeTime_of_Solar_Panels = 25 #in years\n",
        "Carbon_dioxide_emissions_mitigated = Electricity_Consumption_user * 12 * LifeTime_of_Solar_Panels * Emission_factor / 1000\n",
        "print(\"Carbon dioxide emissions mitigated is :\", Carbon_dioxide_emissions_mitigated, \"tones\")"
      ],
      "execution_count": null,
      "outputs": [
        {
          "output_type": "stream",
          "text": [
            "Carbon dioxide emissions mitigated is : 154.734 tones\n"
          ],
          "name": "stdout"
        }
      ]
    },
    {
      "cell_type": "markdown",
      "metadata": {
        "id": "wsSUhyC0onri"
      },
      "source": [
        "# **Trees you plant**"
      ]
    },
    {
      "cell_type": "code",
      "metadata": {
        "id": "dpqREBwxoxHu",
        "colab": {
          "base_uri": "https://localhost:8080/"
        },
        "outputId": "4ffecc25-e384-4bfc-c6a2-61793b42fcde"
      },
      "source": [
        "Number_of_Teak_Trees = Carbon_dioxide_emissions_mitigated * 1.6  #data source - IISC\n",
        "print(\"This installation will be equivalent to planting, \", math.ceil(Number_of_Teak_Trees))"
      ],
      "execution_count": null,
      "outputs": [
        {
          "output_type": "stream",
          "text": [
            "This installation will be equivalent to planting,  248\n"
          ],
          "name": "stdout"
        }
      ]
    }
  ]
}